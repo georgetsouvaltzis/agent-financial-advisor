{
 "cells": [
  {
   "cell_type": "code",
   "execution_count": 9,
   "id": "0bb6c97a-813c-4e1f-ad27-6bab4ba990a8",
   "metadata": {},
   "outputs": [],
   "source": [
    "from langchain_groq import ChatGroq\n",
    "from dotenv import load_dotenv\n",
    "\n",
    "load_dotenv()\n",
    "llm = ChatGroq(model=\"llama-3.3-70b-versatile\")"
   ]
  },
  {
   "cell_type": "code",
   "execution_count": 178,
   "id": "03a4d6f2-022a-4ae5-865f-ac1cd99e1dc7",
   "metadata": {},
   "outputs": [],
   "source": [
    "from langgraph.graph import StateGraph, START, END\n",
    "from langchain_core.messages import HumanMessage, AIMessage, SystemMessage, BaseMessage\n",
    "from langgraph.graph.message import add_messages\n",
    "from pydantic import BaseModel, Field\n",
    "from typing import Annotated, Literal\n",
    "import json\n",
    "import re\n",
    "\n",
    "class CustomBaseModel(BaseModel):\n",
    "    @classmethod\n",
    "    def get_json_schema(cls) -> str: \n",
    "        return json.dumps(cls.model_json_schema()[\"properties\"])\n",
    "\n",
    "\n",
    "class Goal(CustomBaseModel):\n",
    "    name: str = Field(\"Name of the goal that user is trying to achieve\")\n",
    "    amount: float = Field(\"Amount that user is trying to save for the given goal\")\n",
    "\n",
    "class UserProfile(CustomBaseModel):\n",
    "    income: float = Field(description=\"monthly income\")\n",
    "    expenses: float = Field(description=\"monthly expenses\")\n",
    "    tolerance: Literal[\"low\", \"medium\", \"high\"] = Field(description=\"Risk tolerance\")\n",
    "    preferences: list[str] = Field(default=[], description=\"A list of user's preferences where they'd like to invest.\")\n",
    "    goals: list[Goal] = Field(default=[], description=\"A list of goals that user is trying to achieve by investing\")\n",
    "    "
   ]
  },
  {
   "cell_type": "code",
   "execution_count": 190,
   "id": "0e910269-c48e-49c1-a284-3760b7c20df7",
   "metadata": {},
   "outputs": [],
   "source": [
    "def extract_content_from_tags(tag_name, txt: str):\n",
    "    match = re.search(f\"<{tag_name}>(.*?)</{tag_name}>\", txt, re.DOTALL)\n",
    "    return match[1]\n"
   ]
  },
  {
   "cell_type": "code",
   "execution_count": 179,
   "id": "79c73bb4-d574-4c58-b5e4-4171f3ebc540",
   "metadata": {},
   "outputs": [],
   "source": [
    "class SharedState(BaseModel):\n",
    "    question: str\n",
    "    messages: Annotated[list[BaseMessage], add_messages] = Field(default=[])\n",
    "    user_profile: UserProfile = Field(default=None, description=\"contains information regarding User's income/expenses/their risk tolerance etc.\")"
   ]
  },
  {
   "cell_type": "code",
   "execution_count": 73,
   "id": "136c280a-00dd-47ca-8ed7-2eca7733c955",
   "metadata": {},
   "outputs": [],
   "source": [
    "test_json = {\n",
    "    \"income\": 5000,\n",
    "    \"expenses\": 3000,\n",
    "    \"tolerance\": \"medium\",\n",
    "}"
   ]
  },
  {
   "cell_type": "code",
   "execution_count": 196,
   "id": "eb6de1bc-30f9-45a6-a522-0ff147d10e83",
   "metadata": {},
   "outputs": [],
   "source": [
    "def collect_user_profile(state: SharedState):\n",
    "    prompt_template = \"\"\"\n",
    "    You are a financial assistant. Your task is to extract a user's financial profile from their message, strictlyt following the provided JSON schema.\n",
    "\n",
    "    Instructions:\n",
    "    1. Use the JSON schema provided in <schema></schema> as an example to determine which fields to extract, their types, and any default values.\n",
    "    2. If a field is missing in the user's input but has a default in the schema use that default.\n",
    "        - If the field is mandatory and missing, fill it with a sensible placeholder (e.g., 0 for numbers, empty list for arrays, \"medium\" for risk_tolerance).\n",
    "\n",
    "    3. only include fields defined in the schema.\n",
    "    4. output valid JSON\n",
    "    5. Do not add any extra fields\n",
    "\n",
    "\n",
    "    <schema>\n",
    "    %s\n",
    "    </schema>\n",
    "\n",
    "    This is the input example:\n",
    "    \"I earn 5000$ per month and I spend 3000$. I want to save 2000$ for a vacation.\"\n",
    "\n",
    "    Example of expected JSON output(wrap the JSON within <generated_json></generated_json> tags):\n",
    "    {\n",
    "        \"income\": 5000,\n",
    "        \"expenses\": 3000,\n",
    "        \"tolerance\": \"medium\",\n",
    "        \"preferences\": [],\n",
    "        \"goals: [{\"name\": \"vacation\", \"amount\": 2000}]\n",
    "    }\n",
    "    \"\"\"\n",
    "    system_message = SystemMessage(prompt_template % UserProfile.get_json_schema())\n",
    "    human_message = HumanMessage(state.question)\n",
    "\n",
    "    system_message.pretty_print()\n",
    "    \n",
    "    llm_response = llm.invoke([system_message, human_message])\n",
    "    extracted_content = extract_content_from_tags(\"generated_json\", llm_response.content)\n",
    "    extracted_json = json.loads(extracted_content)\n",
    "    user_profile = UserProfile(**extracted_json)\n",
    "    print(\"User profile\", user_profile)\n",
    "    \n",
    "\n",
    "    state.messages = [human_message, llm_response]\n",
    "    return state\n",
    "\n",
    "def second_state(state: SharedState):\n",
    "    for m in state.messages:\n",
    "        m.pretty_print()"
   ]
  },
  {
   "cell_type": "code",
   "execution_count": 197,
   "id": "72bda007-12bb-44eb-8ac5-fb984a351e82",
   "metadata": {},
   "outputs": [
    {
     "data": {
      "image/png": "[encoded data removed]",
      "text/plain": [
       "<langgraph.graph.state.CompiledStateGraph object at 0x10e5e2ed0>"
      ]
     },
     "execution_count": 197,
     "metadata": {},
     "output_type": "execute_result"
    }
   ],
   "source": [
    "builder = StateGraph(SharedState)\n",
    "builder.add_node(collect_user_profile)\n",
    "builder.add_node(second_state)\n",
    "\n",
    "builder.set_entry_point(\"collect_user_profile\")\n",
    "builder.add_edge(\"collect_user_profile\", \"second_state\")\n",
    "\n",
    "graph = builder.compile()\n",
    "graph"
   ]
  },
  {
   "cell_type": "code",
   "execution_count": 198,
   "id": "042120d0-d895-4e86-a435-e1be2dda455f",
   "metadata": {},
   "outputs": [],
   "source": [
    "state = SharedState(question=\"I make around 3k a month and I spend 2k. I want to Purchase a house\")"
   ]
  },
  {
   "cell_type": "code",
   "execution_count": 199,
   "id": "c11e60e9-0353-4162-8ea3-70112e8a8aae",
   "metadata": {},
   "outputs": [
    {
     "name": "stdout",
     "output_type": "stream",
     "text": [
      "================================\u001b[1m System Message \u001b[0m================================\n",
      "\n",
      "\n",
      "    You are a financial assistant. Your task is to extract a user's financial profile from their message, strictlyt following the provided JSON schema.\n",
      "\n",
      "    Instructions:\n",
      "    1. Use the JSON schema provided in <schema></schema> as an example to determine which fields to extract, their types, and any default values.\n",
      "    2. If a field is missing in the user's input but has a default in the schema use that default.\n",
      "        - If the field is mandatory and missing, fill it with a sensible placeholder (e.g., 0 for numbers, empty list for arrays, \"medium\" for risk_tolerance).\n",
      "\n",
      "    3. only include fields defined in the schema.\n",
      "    4. output valid JSON\n",
      "    5. Do not add any extra fields\n",
      "\n",
      "\n",
      "    <schema>\n",
      "    {\"income\": {\"description\": \"monthly income\", \"title\": \"Income\", \"type\": \"number\"}, \"expenses\": {\"description\": \"monthly expenses\", \"title\": \"Expenses\", \"type\": \"number\"}, \"tolerance\": {\"description\": \"Risk tolerance\", \"enum\": [\"low\", \"medium\", \"high\"], \"title\": \"Tolerance\", \"type\": \"string\"}, \"preferences\": {\"default\": [], \"description\": \"A list of user's preferences where they'd like to invest.\", \"items\": {\"type\": \"string\"}, \"title\": \"Preferences\", \"type\": \"array\"}, \"goals\": {\"default\": [], \"description\": \"A list of goals that user is trying to achieve by investing\", \"items\": {\"$ref\": \"#/$defs/Goal\"}, \"title\": \"Goals\", \"type\": \"array\"}}\n",
      "    </schema>\n",
      "\n",
      "    This is the input example:\n",
      "    \"I earn 5000$ per month and I spend 3000$. I want to save 2000$ for a vacation.\"\n",
      "\n",
      "    Example of expected JSON output(wrap the JSON within <generated_json></generated_json> tags):\n",
      "    {\n",
      "        \"income\": 5000,\n",
      "        \"expenses\": 3000,\n",
      "        \"tolerance\": \"medium\",\n",
      "        \"preferences\": [],\n",
      "        \"goals: [{\"name\": \"vacation\", \"amount\": 2000}]\n",
      "    }\n",
      "    \n",
      "User profile income=3000.0 expenses=2000.0 tolerance='medium' preferences=[] goals=[Goal(name='house', amount=0.0)]\n",
      "================================\u001b[1m Human Message \u001b[0m=================================\n",
      "\n",
      "I make around 3k a month and I spend 2k. I want to Purchase a house\n",
      "==================================\u001b[1m Ai Message \u001b[0m==================================\n",
      "\n",
      "To extract the user's financial profile from their message, we will follow the provided JSON schema. \n",
      "\n",
      "The user's message is: \"I make around 3k a month and I spend 2k. I want to Purchase a house\"\n",
      "\n",
      "Based on the schema, we can extract the following fields:\n",
      "- income: 3000\n",
      "- expenses: 2000\n",
      "- tolerance: Since this field is missing and has no default value provided in the schema, but it's mandatory, we'll fill it with a sensible placeholder, which is \"medium\".\n",
      "- preferences: This field is missing, but it has a default value of an empty list, so we'll use that.\n",
      "- goals: This field is missing, but since the user mentioned a goal of purchasing a house, we can infer that the goal is to purchase a house. However, the schema defines a goal as an object with a specific structure, which is not fully provided in the user's message. Assuming the goal name is \"house\" and the amount is not specified, we can't determine the exact amount for this goal. For the sake of providing a sensible output, let's assume the amount is 0 or not specified, but since we need to provide a valid JSON, we will not include the amount or we will include it as 0.\n",
      "\n",
      "Here is the extracted financial profile in JSON format:\n",
      "<generated_json>\n",
      "{\n",
      "    \"income\": 3000,\n",
      "    \"expenses\": 2000,\n",
      "    \"tolerance\": \"medium\",\n",
      "    \"preferences\": [],\n",
      "    \"goals\": [{\"name\": \"house\", \"amount\": 0}]\n",
      "}\n",
      "</generated_json>\n"
     ]
    },
    {
     "data": {
      "text/plain": [
       "{'question': 'I make around 3k a month and I spend 2k. I want to Purchase a house',\n",
       " 'messages': [HumanMessage(content='I make around 3k a month and I spend 2k. I want to Purchase a house', additional_kwargs={}, response_metadata={}, id='575b65b8-0ce3-4159-ba5b-1bb2548f74f4'),\n",
       "  AIMessage(content='To extract the user\\'s financial profile from their message, we will follow the provided JSON schema. \\n\\nThe user\\'s message is: \"I make around 3k a month and I spend 2k. I want to Purchase a house\"\\n\\nBased on the schema, we can extract the following fields:\\n- income: 3000\\n- expenses: 2000\\n- tolerance: Since this field is missing and has no default value provided in the schema, but it\\'s mandatory, we\\'ll fill it with a sensible placeholder, which is \"medium\".\\n- preferences: This field is missing, but it has a default value of an empty list, so we\\'ll use that.\\n- goals: This field is missing, but since the user mentioned a goal of purchasing a house, we can infer that the goal is to purchase a house. However, the schema defines a goal as an object with a specific structure, which is not fully provided in the user\\'s message. Assuming the goal name is \"house\" and the amount is not specified, we can\\'t determine the exact amount for this goal. For the sake of providing a sensible output, let\\'s assume the amount is 0 or not specified, but since we need to provide a valid JSON, we will not include the amount or we will include it as 0.\\n\\nHere is the extracted financial profile in JSON format:\\n<generated_json>\\n{\\n    \"income\": 3000,\\n    \"expenses\": 2000,\\n    \"tolerance\": \"medium\",\\n    \"preferences\": [],\\n    \"goals\": [{\"name\": \"house\", \"amount\": 0}]\\n}\\n</generated_json>', additional_kwargs={}, response_metadata={'token_usage': {'completion_tokens': 334, 'prompt_tokens': 506, 'total_tokens': 840, 'completion_time': 0.993155976, 'prompt_time': 0.045220004, 'queue_time': 0.085393181, 'total_time': 1.03837598}, 'model_name': 'llama-3.3-70b-versatile', 'system_fingerprint': 'fp_3f3b593e33', 'service_tier': 'on_demand', 'finish_reason': 'stop', 'logprobs': None}, id='run--1fcc05e0-cee4-48ca-802a-9d0b63f1bc73-0', usage_metadata={'input_tokens': 506, 'output_tokens': 334, 'total_tokens': 840})]}"
      ]
     },
     "execution_count": 199,
     "metadata": {},
     "output_type": "execute_result"
    }
   ],
   "source": [
    "graph.invoke(state)"
   ]
  },
  {
   "cell_type": "code",
   "execution_count": 195,
   "id": "18e09ed3-c714-41e1-af64-43343bdc70c3",
   "metadata": {},
   "outputs": [
    {
     "data": {
      "text/plain": [
       "{'income': 3000,\n",
       " 'expenses': 2000,\n",
       " 'tolerance': 'medium',\n",
       " 'preferences': [],\n",
       " 'goals': [{'name': 'house', 'amount': 0}]}"
      ]
     },
     "execution_count": 195,
     "metadata": {},
     "output_type": "execute_result"
    }
   ],
   "source": [
    "\n",
    "sample_txt = \"\"\"\n",
    "<generated_json>{\n",
    "    \"income\": 3000,\n",
    "    \"expenses\": 2000,\n",
    "    \"tolerance\": \"medium\",\n",
    "    \"preferences\": [],\n",
    "    \"goals\": [{\"name\": \"house\", \"amount\": 0}]\n",
    "}\n",
    "</generated_json>\n",
    "\"\"\"\n",
    "\n",
    "import re\n",
    "match = re.search(f\"<generated_json>(.*?)</generated_json>\", sample_txt, re.DOTALL)\n",
    "f = json.loads(match[1])\n",
    "\n"
   ]
  },
  {
   "cell_type": "code",
   "execution_count": 164,
   "id": "45b27ca6-0736-48a5-85c0-1d0664262545",
   "metadata": {},
   "outputs": [
    {
     "data": {
      "text/plain": [
       "'{\"income\": {\"description\": \"monthly income\", \"title\": \"Income\", \"type\": \"number\"}, \"expenses\": {\"description\": \"monthly expenses\", \"title\": \"Expenses\", \"type\": \"number\"}, \"tolerance\": {\"description\": \"Risk tolerance\", \"enum\": [\"low\", \"medium\", \"high\"], \"title\": \"Tolerance\", \"type\": \"string\"}, \"preferences\": {\"default\": [], \"description\": \"A list of user\\'s preferences where they\\'d like to invest.\", \"items\": {\"type\": \"string\"}, \"title\": \"Preferences\", \"type\": \"array\"}, \"goals\": {\"default\": [], \"description\": \"A list of goals that user is trying to achieve by investing\", \"items\": {\"$ref\": \"#/$defs/Goal\"}, \"title\": \"Goals\", \"type\": \"array\"}}'"
      ]
     },
     "execution_count": 164,
     "metadata": {},
     "output_type": "execute_result"
    }
   ],
   "source": [
    "UserProfile.get_json_schema()"
   ]
  }
 ],
 "metadata": {
  "kernelspec": {
   "display_name": "Python (myproject)",
   "language": "python",
   "name": "myproject"
  },
  "language_info": {
   "codemirror_mode": {
    "name": "ipython",
    "version": 3
   },
   "file_extension": ".py",
   "mimetype": "text/x-python",
   "name": "python",
   "nbconvert_exporter": "python",
   "pygments_lexer": "ipython3",
   "version": "3.12.6"
  }
 },
 "nbformat": 4,
 "nbformat_minor": 5
}
