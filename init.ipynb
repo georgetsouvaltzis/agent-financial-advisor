{
 "cells": [
  {
   "cell_type": "code",
   "execution_count": 9,
   "id": "0bb6c97a-813c-4e1f-ad27-6bab4ba990a8",
   "metadata": {},
   "outputs": [],
   "source": [
    "from langchain_groq import ChatGroq\n",
    "from dotenv import load_dotenv\n",
    "\n",
    "load_dotenv()\n",
    "llm = ChatGroq(model=\"llama-3.3-70b-versatile\")"
   ]
  },
  {
   "cell_type": "code",
   "execution_count": 70,
   "id": "03a4d6f2-022a-4ae5-865f-ac1cd99e1dc7",
   "metadata": {},
   "outputs": [],
   "source": [
    "from langgraph.graph import StateGraph, START, END\n",
    "from langchain_core.messages import HumanMessage, AIMessage, SystemMessage, AnyMessage\n",
    "from langgraph.graph.message import add_messages\n",
    "from pydantic import BaseModel, Field\n",
    "from typing import Annotated, Literal\n",
    "\n",
    "class CustomBaseModel(BaseModel):\n",
    "    @classmethod\n",
    "    def get_json_schema(cls): \n",
    "        return cls.model_json_schema()[\"properties\"]\n",
    "\n",
    "\n",
    "class Goal(CustomBaseModel):\n",
    "    name: str = Field(\"Name of the goal that user is trying to achieve\")\n",
    "    amount: float = Field(\"Amount that user is trying to save for the given goal\")\n",
    "\n",
    "class UserProfile(CustomBaseModel):\n",
    "    income: float = Field(description=\"monthly income\")\n",
    "    expenses: float = Field(description=\"monthly expenses\")\n",
    "    tolerance: Literal[\"low\", \"medium\", \"high\"] = Field(description=\"Risk tolerance\")\n",
    "    preferences: list[str] = Field(default=[], description=\"A list of user's preferences where they'd like to invest.\")\n",
    "    goals: list[Goal] = Field(default=[], description=\"A list of goals that user is trying to achieve by investing\")\n",
    "    "
   ]
  },
  {
   "cell_type": "code",
   "execution_count": 49,
   "id": "79c73bb4-d574-4c58-b5e4-4171f3ebc540",
   "metadata": {},
   "outputs": [],
   "source": [
    "class SharedState(BaseModel):\n",
    "    user_profile: UserProfile = Field(default=None, description=\"contains information regarding User's income/expenses/their risk tolerance etc.\")"
   ]
  },
  {
   "cell_type": "code",
   "execution_count": 73,
   "id": "136c280a-00dd-47ca-8ed7-2eca7733c955",
   "metadata": {},
   "outputs": [],
   "source": [
    "test_json = {\n",
    "    \"income\": 5000,\n",
    "    \"expenses\": 3000,\n",
    "    \"tolerance\": \"medium\",\n",
    "}"
   ]
  },
  {
   "cell_type": "code",
   "execution_count": 76,
   "id": "284ede48-9c8d-4b0e-b5a0-253e259b663c",
   "metadata": {},
   "outputs": [
    {
     "name": "stderr",
     "output_type": "stream",
     "text": [
      "/var/folders/st/7yxg30452v701hb8jhrdfm3h0000gn/T/ipykernel_46265/2566077065.py:1: PydanticDeprecatedSince20: The `json` method is deprecated; use `model_dump_json` instead. Deprecated in Pydantic V2.0 to be removed in V3.0. See Pydantic V2 Migration Guide at https://errors.pydantic.dev/2.11/migration/\n",
      "  UserProfile(**test_json).json(indent=2)\n"
     ]
    },
    {
     "ename": "TypeError",
     "evalue": "`dumps_kwargs` keyword arguments are no longer supported.",
     "output_type": "error",
     "traceback": [
      "\u001b[31m---------------------------------------------------------------------------\u001b[39m",
      "\u001b[31mTypeError\u001b[39m                                 Traceback (most recent call last)",
      "\u001b[36mCell\u001b[39m\u001b[36m \u001b[39m\u001b[32mIn[76]\u001b[39m\u001b[32m, line 1\u001b[39m\n\u001b[32m----> \u001b[39m\u001b[32m1\u001b[39m \u001b[43mUserProfile\u001b[49m\u001b[43m(\u001b[49m\u001b[43m*\u001b[49m\u001b[43m*\u001b[49m\u001b[43mtest_json\u001b[49m\u001b[43m)\u001b[49m\u001b[43m.\u001b[49m\u001b[43mjson\u001b[49m\u001b[43m(\u001b[49m\u001b[43mindent\u001b[49m\u001b[43m=\u001b[49m\u001b[32;43m2\u001b[39;49m\u001b[43m)\u001b[49m\n",
      "\u001b[36mFile \u001b[39m\u001b[32m~/Desktop/agents-playground/my-solutions/agent-financial-advisor/.venv/lib/python3.12/site-packages/pydantic/main.py:1317\u001b[39m, in \u001b[36mBaseModel.json\u001b[39m\u001b[34m(self, include, exclude, by_alias, exclude_unset, exclude_defaults, exclude_none, encoder, models_as_dict, **dumps_kwargs)\u001b[39m\n\u001b[32m   1315\u001b[39m     \u001b[38;5;28;01mraise\u001b[39;00m \u001b[38;5;167;01mTypeError\u001b[39;00m(\u001b[33m'\u001b[39m\u001b[33mThe `models_as_dict` argument is no longer supported; use a model serializer instead.\u001b[39m\u001b[33m'\u001b[39m)\n\u001b[32m   1316\u001b[39m \u001b[38;5;28;01mif\u001b[39;00m dumps_kwargs:\n\u001b[32m-> \u001b[39m\u001b[32m1317\u001b[39m     \u001b[38;5;28;01mraise\u001b[39;00m \u001b[38;5;167;01mTypeError\u001b[39;00m(\u001b[33m'\u001b[39m\u001b[33m`dumps_kwargs` keyword arguments are no longer supported.\u001b[39m\u001b[33m'\u001b[39m)\n\u001b[32m   1318\u001b[39m \u001b[38;5;28;01mreturn\u001b[39;00m \u001b[38;5;28mself\u001b[39m.model_dump_json(\n\u001b[32m   1319\u001b[39m     include=include,\n\u001b[32m   1320\u001b[39m     exclude=exclude,\n\u001b[32m   (...)\u001b[39m\u001b[32m   1324\u001b[39m     exclude_none=exclude_none,\n\u001b[32m   1325\u001b[39m )\n",
      "\u001b[31mTypeError\u001b[39m: `dumps_kwargs` keyword arguments are no longer supported."
     ]
    }
   ],
   "source": []
  }
 ],
 "metadata": {
  "kernelspec": {
   "display_name": "Python (myproject)",
   "language": "python",
   "name": "myproject"
  },
  "language_info": {
   "codemirror_mode": {
    "name": "ipython",
    "version": 3
   },
   "file_extension": ".py",
   "mimetype": "text/x-python",
   "name": "python",
   "nbconvert_exporter": "python",
   "pygments_lexer": "ipython3",
   "version": "3.12.6"
  }
 },
 "nbformat": 4,
 "nbformat_minor": 5
}
