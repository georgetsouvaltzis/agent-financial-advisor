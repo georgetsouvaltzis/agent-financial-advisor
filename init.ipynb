{
 "cells": [
  {
   "cell_type": "code",
   "execution_count": 9,
   "id": "0bb6c97a-813c-4e1f-ad27-6bab4ba990a8",
   "metadata": {},
   "outputs": [],
   "source": [
    "from langchain_groq import ChatGroq\n",
    "from dotenv import load_dotenv\n",
    "\n",
    "load_dotenv()\n",
    "llm = ChatGroq(model=\"llama-3.3-70b-versatile\")"
   ]
  },
  {
   "cell_type": "code",
   "execution_count": 439,
   "id": "03a4d6f2-022a-4ae5-865f-ac1cd99e1dc7",
   "metadata": {},
   "outputs": [],
   "source": [
    "from langgraph.graph import StateGraph, START, END\n",
    "from langchain_core.messages import HumanMessage, AIMessage, SystemMessage, AnyMessage\n",
    "from langgraph.graph.message import add_messages\n",
    "from langgraph.types import Command, interrupt\n",
    "from langgraph.checkpoint.memory import InMemorySaver\n",
    "\n",
    "from pydantic import BaseModel, Field, ValidationError\n",
    "from typing import Annotated, Literal\n",
    "import json\n",
    "import re\n",
    "\n",
    "class CustomBaseModel(BaseModel):\n",
    "    @classmethod\n",
    "    def get_json_schema(cls) -> str: \n",
    "        return json.dumps(cls.model_json_schema()[\"properties\"])\n",
    "\n",
    "\n",
    "class Goal(CustomBaseModel):\n",
    "    name: str = Field(\"Name of the goal that user is trying to achieve\")\n",
    "    amount: float = Field(\"Amount that user is trying to save for the given goal\")\n",
    "\n",
    "class UserProfile(CustomBaseModel):\n",
    "    income: float = Field(description=\"monthly income\")\n",
    "    expenses: float = Field(description=\"monthly expenses\")\n",
    "    tolerance: Literal[\"low\", \"medium\", \"high\"] = Field(description=\"Risk tolerance\")\n",
    "    preferences: list[str] = Field(default=[], description=\"A list of user's preferences where they'd like to invest.\")\n",
    "    goals: list[Goal] = Field(default=[], description=\"A list of goals that user is trying to achieve by investing\")\n",
    "    "
   ]
  },
  {
   "cell_type": "code",
   "execution_count": 440,
   "id": "0e910269-c48e-49c1-a284-3760b7c20df7",
   "metadata": {},
   "outputs": [],
   "source": [
    "def extract_content_from_tags(tag_name, txt: str):\n",
    "    match = re.search(f\"<{tag_name}>(.*?)</{tag_name}>\", txt, re.DOTALL)\n",
    "    return match[1] if match else None"
   ]
  },
  {
   "cell_type": "code",
   "execution_count": 465,
   "id": "79c73bb4-d574-4c58-b5e4-4171f3ebc540",
   "metadata": {},
   "outputs": [],
   "source": [
    "class SharedState(BaseModel):\n",
    "    messages: Annotated[list[AnyMessage], add_messages] = Field(default=[])\n",
    "    user_profile: UserProfile = Field(default=None, description=\"contains information regarding User's income/expenses/their risk tolerance etc.\")\n",
    "    question_to_ask: str | None = Field(default=None)\n",
    "    user_response: str | None = Field(default=None)"
   ]
  },
  {
   "cell_type": "code",
   "execution_count": 466,
   "id": "eb6de1bc-30f9-45a6-a522-0ff147d10e83",
   "metadata": {},
   "outputs": [],
   "source": [
    "def collect_user_profile(state: SharedState):\n",
    "    prompt_template = \"\"\"\n",
    "    You are a financial assistant. Your task is to extract a user's financial profile from their message, strictlyt following the provided JSON schema.\n",
    "\n",
    "    Instructions:\n",
    "    1. Use the JSON schema provided in <schema></schema> as an example to determine which fields to extract, their types, and any default values.\n",
    "    2. If a field is missing in the user's input but has a default in the schema use that default.\n",
    "        - If the field is mandatory and missing, Generate a short descriptive question and (if mthere are multiple questions to ask, unify and ask as single) and enclose it within <question_to_ask></question_to_ask>\n",
    "\n",
    "    3. only include fields defined in the schema.\n",
    "    4. output valid JSON\n",
    "    5. Do not add any extra fields\n",
    "    6. Do not make any assumptions. Strictly follow the guidelines\n",
    "\n",
    "    <schema>\n",
    "    %s\n",
    "    </schema>\n",
    "\n",
    "    This is the input example:\n",
    "    \"I earn 5000$ per month and I spend 3000$. I want to save 2000$ for a vacation.\"\n",
    "\n",
    "    Example of expected JSON output(wrap the JSON within <generated_json></generated_json> tags):\n",
    "    {\n",
    "        \"income\": 5000,\n",
    "        \"expenses\": 3000,\n",
    "        \"tolerance\": \"medium\",\n",
    "        \"preferences\": [],\n",
    "        \"goals: [{\"name\": \"vacation\", \"amount\": 2000}]\n",
    "    }\n",
    "    \"\"\"\n",
    "    system_message = SystemMessage(prompt_template % UserProfile.get_json_schema())\n",
    "    \n",
    "    try:\n",
    "        llm_response = llm.invoke([system_message] + state.messages)\n",
    "        extracted_content = extract_content_from_tags(\"question_to_ask\", llm_response.content)\n",
    "        if extracted_content is not None:\n",
    "            state.messages = [] + [llm_response]\n",
    "            state.question_to_ask = extracted_content\n",
    "            return state\n",
    "\n",
    "        extracted_content = extract_content_from_tags(\"generated_json\", llm_response.content)\n",
    "        extracted_json = json.loads(extracted_content)\n",
    "        user_profile = UserProfile(**extracted_json)\n",
    "        \n",
    "    except ValidationError as e:\n",
    "        print(\"validation error!\")\n",
    "        user_profile = None\n",
    "        \n",
    "    state.question_to_ask = None\n",
    "    state.user_response = None\n",
    "    state.messages = [llm_response]\n",
    "    state.user_profile = user_profile\n",
    "    return state\n",
    "\n",
    "def should_ask_to_clarify(state: SharedState) -> Literal[\"ask_user_to_clarify\", END]:\n",
    "    user_profile = state.user_profile\n",
    "    \n",
    "    if user_profile is None or user_profile.income == 0 or user_profile.expenses == 0:\n",
    "        return \"ask_user_to_clarify\"\n",
    "    \n",
    "    return END\n",
    "    \n",
    "def ask_user_to_clarify(state: SharedState) -> Command[Literal[\"collect_user_profile\"]]:\n",
    "    user_response = interrupt(f\"\\n {state.question_to_ask}\")\n",
    "    print(\"I am updating\")\n",
    "    return Command(goto=\"collect_user_profile\", update={\"messages\": [AIMessage(state.question_to_ask), HumanMessage(user_response)]})\n",
    "    \n",
    "    \n",
    "    \n",
    "    \n",
    "    "
   ]
  },
  {
   "cell_type": "code",
   "execution_count": 467,
   "id": "72bda007-12bb-44eb-8ac5-fb984a351e82",
   "metadata": {},
   "outputs": [
    {
     "data": {
      "image/png": "[encoded data removed]",
      "text/plain": [
       "<langgraph.graph.state.CompiledStateGraph object at 0x11bfcfb90>"
      ]
     },
     "execution_count": 467,
     "metadata": {},
     "output_type": "execute_result"
    }
   ],
   "source": [
    "builder = StateGraph(SharedState)\n",
    "builder.add_node(collect_user_profile)\n",
    "builder.add_node(ask_user_to_clarify)\n",
    "\n",
    "builder.set_entry_point(\"collect_user_profile\")\n",
    "builder.add_conditional_edges(\"collect_user_profile\", should_ask_to_clarify)\n",
    "\n",
    "graph = builder.compile(checkpointer=InMemorySaver())\n",
    "graph"
   ]
  },
  {
   "cell_type": "code",
   "execution_count": 468,
   "id": "042120d0-d895-4e86-a435-e1be2dda455f",
   "metadata": {},
   "outputs": [],
   "source": [
    "config = {\"configurable\": {\"thread_id\": 1}}\n",
    "state = SharedState(messages=[HumanMessage(\"I make around 3k a month. I spend 2k a month\")])"
   ]
  },
  {
   "cell_type": "code",
   "execution_count": 469,
   "id": "c11e60e9-0353-4162-8ea3-70112e8a8aae",
   "metadata": {},
   "outputs": [
    {
     "data": {
      "text/plain": [
       "{'messages': [HumanMessage(content='I make around 3k a month. I spend 2k a month', additional_kwargs={}, response_metadata={}, id='a7fb6c61-a309-421d-88a1-aed60c48acc5'),\n",
       "  AIMessage(content='To generate the user\\'s financial profile, I will extract the relevant information from the input message. \\n\\nFrom the input, I can see that the user\\'s monthly income is $3000 and their monthly expenses are $2000. However, the input is missing some fields that are defined in the schema, such as \"trial\", \"tolerance\", \"preferences\", and \"goals\". \\n\\nSince \"trial\" and \"tolerance\" are not provided, and they do not have default values, I will ask for this information. \\n\"tolerance\" has an enum, so I will provide options for this.\\n\"trial\" is a boolean, so I will provide options for this as well.\\n\\nHere is the question to ask: \\n<question_to_ask>What is your risk tolerance (low, medium, high) and are you interested in a trial (yes or no)?</question_to_ask>\\n\\nHowever, since \"preferences\" and \"goals\" have default values of empty arrays, I can use those defaults.\\n\\nAssuming the user will provide the missing information, the generated JSON would look something like this:\\n<generated_json>{\\n    \"income\": 3000,\\n    \"expenses\": 2000,\\n    \"trial\": false, \\n    \"tolerance\": \"medium\", \\n    \"preferences\": [],\\n    \"goals\": []\\n}</generated_json>\\n\\nPlease note that I\\'ve used \"medium\" for tolerance and false for trial as examples, but these should be replaced with the user\\'s actual input. \\n\\nAlso, note that the user\\'s goals and preferences are empty arrays, as per the default values in the schema. If the user wants to add any goals or preferences, they should provide that information.', additional_kwargs={}, response_metadata={'token_usage': {'completion_tokens': 350, 'prompt_tokens': 541, 'total_tokens': 891, 'completion_time': 1.1729770959999999, 'prompt_time': 0.056799227, 'queue_time': 0.002664549, 'total_time': 1.229776323}, 'model_name': 'llama-3.3-70b-versatile', 'system_fingerprint': 'fp_3f3b593e33', 'service_tier': 'on_demand', 'finish_reason': 'stop', 'logprobs': None}, id='run--8b5e1b84-c1e1-4c8f-a289-2e2264048902-0', usage_metadata={'input_tokens': 541, 'output_tokens': 350, 'total_tokens': 891})],\n",
       " 'question_to_ask': 'What is your risk tolerance (low, medium, high) and are you interested in a trial (yes or no)?',\n",
       " '__interrupt__': [Interrupt(value='\\n What is your risk tolerance (low, medium, high) and are you interested in a trial (yes or no)?', id='7d72ee827da6edfc2a2a57cf403ac810')]}"
      ]
     },
     "execution_count": 469,
     "metadata": {},
     "output_type": "execute_result"
    }
   ],
   "source": [
    "graph.invoke(state, config)"
   ]
  },
  {
   "cell_type": "code",
   "execution_count": 472,
   "id": "62c676c1-5b07-453d-b513-699869219c51",
   "metadata": {},
   "outputs": [],
   "source": [
    "interrupts = graph.get_state(config).interrupts\n",
    "\n",
    "if interrupts:\n",
    "    user_response = input(interrupts[0].value)\n",
    "    graph.invoke(Command(resume=user_response), config)"
   ]
  },
  {
   "cell_type": "code",
   "execution_count": 473,
   "id": "b0414d4e-9fc1-4b1a-8791-b556a43289de",
   "metadata": {},
   "outputs": [
    {
     "name": "stdout",
     "output_type": "stream",
     "text": [
      "================================\u001b[1m Human Message \u001b[0m=================================\n",
      "\n",
      "I make around 3k a month. I spend 2k a month\n",
      "==================================\u001b[1m Ai Message \u001b[0m==================================\n",
      "\n",
      "To generate the user's financial profile, I will extract the relevant information from the input message. \n",
      "\n",
      "From the input, I can see that the user's monthly income is $3000 and their monthly expenses are $2000. However, the input is missing some fields that are defined in the schema, such as \"trial\", \"tolerance\", \"preferences\", and \"goals\". \n",
      "\n",
      "Since \"trial\" and \"tolerance\" are not provided, and they do not have default values, I will ask for this information. \n",
      "\"tolerance\" has an enum, so I will provide options for this.\n",
      "\"trial\" is a boolean, so I will provide options for this as well.\n",
      "\n",
      "Here is the question to ask: \n",
      "<question_to_ask>What is your risk tolerance (low, medium, high) and are you interested in a trial (yes or no)?</question_to_ask>\n",
      "\n",
      "However, since \"preferences\" and \"goals\" have default values of empty arrays, I can use those defaults.\n",
      "\n",
      "Assuming the user will provide the missing information, the generated JSON would look something like this:\n",
      "<generated_json>{\n",
      "    \"income\": 3000,\n",
      "    \"expenses\": 2000,\n",
      "    \"trial\": false, \n",
      "    \"tolerance\": \"medium\", \n",
      "    \"preferences\": [],\n",
      "    \"goals\": []\n",
      "}</generated_json>\n",
      "\n",
      "Please note that I've used \"medium\" for tolerance and false for trial as examples, but these should be replaced with the user's actual input. \n",
      "\n",
      "Also, note that the user's goals and preferences are empty arrays, as per the default values in the schema. If the user wants to add any goals or preferences, they should provide that information.\n",
      "==================================\u001b[1m Ai Message \u001b[0m==================================\n",
      "\n",
      "What is your risk tolerance (low, medium, high) and are you interested in a trial (yes or no)?\n",
      "================================\u001b[1m Human Message \u001b[0m=================================\n",
      "\n",
      "low\n",
      "==================================\u001b[1m Ai Message \u001b[0m==================================\n",
      "\n",
      "It seems like you've only provided the risk tolerance as \"low\". You still need to answer if you're interested in a trial (yes or no).\n",
      "\n",
      "Please provide the missing information: \n",
      "<question_to_ask>Are you interested in a trial (yes or no)?</question_to_ask>\n",
      "==================================\u001b[1m Ai Message \u001b[0m==================================\n",
      "\n",
      "Are you interested in a trial (yes or no)?\n",
      "================================\u001b[1m Human Message \u001b[0m=================================\n",
      "\n",
      "no\n",
      "==================================\u001b[1m Ai Message \u001b[0m==================================\n",
      "\n",
      "Now that I have all the necessary information, I can generate the user's financial profile in JSON format.\n",
      "\n",
      "Here is the generated JSON:\n",
      "<generated_json>{\n",
      "    \"income\": 3000,\n",
      "    \"expenses\": 2000,\n",
      "    \"trial\": false,\n",
      "    \"tolerance\": \"low\",\n",
      "    \"preferences\": [],\n",
      "    \"goals\": []\n",
      "}</generated_json>\n"
     ]
    }
   ],
   "source": [
    "for m in graph.get_state(config).values[\"messages\"]:\n",
    "    m.pretty_print()\n",
    "    "
   ]
  }
 ],
 "metadata": {
  "kernelspec": {
   "display_name": "Python (myproject)",
   "language": "python",
   "name": "myproject"
  },
  "language_info": {
   "codemirror_mode": {
    "name": "ipython",
    "version": 3
   },
   "file_extension": ".py",
   "mimetype": "text/x-python",
   "name": "python",
   "nbconvert_exporter": "python",
   "pygments_lexer": "ipython3",
   "version": "3.12.6"
  }
 },
 "nbformat": 4,
 "nbformat_minor": 5
}
