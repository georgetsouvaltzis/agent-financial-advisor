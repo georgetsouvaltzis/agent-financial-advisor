{
 "cells": [
  {
   "cell_type": "code",
   "execution_count": 2,
   "id": "0bb6c97a-813c-4e1f-ad27-6bab4ba990a8",
   "metadata": {},
   "outputs": [],
   "source": [
    "from langchain_groq import ChatGroq\n",
    "from dotenv import load_dotenv\n",
    "\n",
    "load_dotenv()\n",
    "llm = ChatGroq(model=\"llama-3.3-70b-versatile\")"
   ]
  },
  {
   "cell_type": "code",
   "execution_count": 3,
   "id": "03a4d6f2-022a-4ae5-865f-ac1cd99e1dc7",
   "metadata": {},
   "outputs": [],
   "source": [
    "from langgraph.graph import StateGraph, START, END\n",
    "from langchain_core.messages import HumanMessage, AIMessage, SystemMessage, AnyMessage\n",
    "from langgraph.graph.message import add_messages\n",
    "from langgraph.types import Command, interrupt\n",
    "from langgraph.checkpoint.memory import InMemorySaver\n",
    "\n",
    "from pydantic import BaseModel, Field, ValidationError\n",
    "from typing import Annotated, Literal\n",
    "import json\n",
    "import re\n",
    "\n",
    "class CustomBaseModel(BaseModel):\n",
    "    @classmethod\n",
    "    def get_json_schema(cls) -> str: \n",
    "        return json.dumps(cls.model_json_schema()[\"properties\"])\n",
    "\n",
    "class Goal(CustomBaseModel):\n",
    "    name: str = Field(\"Name of the goal that user is trying to achieve\")\n",
    "    amount: float = Field(\"Amount that user is trying to save for the given goal\")\n",
    "\n",
    "class UserProfile(CustomBaseModel):\n",
    "    income: float = Field(description=\"monthly income\")\n",
    "    expenses: float = Field(description=\"monthly expenses\")\n",
    "    tolerance: Literal[\"low\", \"medium\", \"high\"] = Field(description=\"Risk tolerance\")\n",
    "    preferences: list[str] = Field(default=[], description=\"A list of user's preferences where they'd like to invest.\")\n",
    "    goals: list[Goal] = Field(default=[], description=\"A list of goals that user is trying to achieve by investing\")\n",
    "    "
   ]
  },
  {
   "cell_type": "code",
   "execution_count": 4,
   "id": "0e910269-c48e-49c1-a284-3760b7c20df7",
   "metadata": {},
   "outputs": [],
   "source": [
    "def extract_content_from_tags(tag_name, txt: str):\n",
    "    match = re.search(f\"<{tag_name}>(.*?)</{tag_name}>\", txt, re.DOTALL)\n",
    "    return match[1] if match else None"
   ]
  },
  {
   "cell_type": "code",
   "execution_count": 44,
   "id": "79c73bb4-d574-4c58-b5e4-4171f3ebc540",
   "metadata": {},
   "outputs": [],
   "source": [
    "class SharedState(BaseModel):\n",
    "    messages: Annotated[list[AnyMessage], add_messages] = Field(default=[])\n",
    "    user_profile: UserProfile = Field(default=None, description=\"contains information regarding User's income/expenses/their risk tolerance etc.\")\n",
    "    question_to_ask: str | None = Field(default=None)\n",
    "    user_response: str | None = Field(default=None)\n",
    "    risk_report: str = Field(default=None)"
   ]
  },
  {
   "cell_type": "code",
   "execution_count": 40,
   "id": "eb6de1bc-30f9-45a6-a522-0ff147d10e83",
   "metadata": {},
   "outputs": [],
   "source": [
    "def collect_user_profile(state: SharedState):\n",
    "    prompt_template = \"\"\"\n",
    "    You are a financial assistant. Your task is to extract a user's financial profile from their message, strictlyt following the provided JSON schema.\n",
    "\n",
    "    Instructions:\n",
    "    1. Use the JSON schema provided in <schema></schema> as an example to determine which fields to extract, their types, and any default values.\n",
    "    2. If a field is missing in the user's input but has a default in the schema use that default.\n",
    "        - If the field is mandatory and missing, Generate a short descriptive question and (if mthere are multiple questions to ask, unify and ask as single) and enclose it within <question_to_ask></question_to_ask>\n",
    "\n",
    "    3. only include fields defined in the schema.\n",
    "    4. output valid JSON\n",
    "    5. Do not add any extra fields\n",
    "    6. Do not make any assumptions. Strictly follow the guidelines\n",
    "\n",
    "    <schema>\n",
    "    %s\n",
    "    </schema>\n",
    "\n",
    "    This is the input example:\n",
    "    \"I earn 5000$ per month and I spend 3000$. I want to save 2000$ for a vacation.\"\n",
    "\n",
    "    Example of expected JSON output(wrap the JSON within <generated_json></generated_json> tags):\n",
    "    {\n",
    "        \"income\": 5000,\n",
    "        \"expenses\": 3000,\n",
    "        \"tolerance\": \"medium\",\n",
    "        \"preferences\": [],\n",
    "        \"goals: [{\"name\": \"vacation\", \"amount\": 2000}]\n",
    "    }\n",
    "    \"\"\"\n",
    "    system_message = SystemMessage(prompt_template % UserProfile.get_json_schema())\n",
    "    \n",
    "    try:\n",
    "        llm_response = llm.invoke([system_message] + state.messages)\n",
    "        extracted_content = extract_content_from_tags(\"question_to_ask\", llm_response.content)\n",
    "        if extracted_content is not None:\n",
    "            state.messages = [] + [llm_response]\n",
    "            state.question_to_ask = extracted_content\n",
    "            return state\n",
    "\n",
    "        extracted_content = extract_content_from_tags(\"generated_json\", llm_response.content)\n",
    "        extracted_json = json.loads(extracted_content)\n",
    "        user_profile = UserProfile(**extracted_json)\n",
    "        \n",
    "    except ValidationError as e:\n",
    "        print(\"validation error!\")\n",
    "        user_profile = None\n",
    "        \n",
    "    state.question_to_ask = None\n",
    "    state.user_response = None\n",
    "    state.messages = [llm_response]\n",
    "    state.user_profile = user_profile\n",
    "    return state\n",
    "\n",
    "def should_ask_to_clarify(state: SharedState) -> Literal[\"ask_user_to_clarify\", \"risk_check_agent\"]:\n",
    "    user_profile = state.user_profile\n",
    "    \n",
    "    if user_profile is None or user_profile.income == 0 or user_profile.expenses == 0:\n",
    "        return \"ask_user_to_clarify\"\n",
    "    \n",
    "    return \"risk_check_agent\"\n",
    "    \n",
    "def ask_user_to_clarify(state: SharedState) -> Command[Literal[\"collect_user_profile\"]]:\n",
    "    user_response = interrupt(f\"\\n {state.question_to_ask}\")\n",
    "    return Command(goto=\"collect_user_profile\", update={\"messages\": [AIMessage(state.question_to_ask), HumanMessage(user_response)]})\n",
    "      \n",
    "def risk_check_agent(state: SharedState):\n",
    "    system_prompt = SystemMessage(\"\"\"You are a financial risk assessment assistant.\n",
    "    Your task is to review a user's financial profile and explain potential risks and feasability of their financial situation.\n",
    "\n",
    "    You will be provided with:\n",
    "    1. The user's profile (income,  expenses, risk tolerance, goals, preferences).\n",
    "\n",
    "    Instructions:\n",
    "    - Carefully read the profile\n",
    "    - Provide a concise but clear \"Risk report\" in plain English.\n",
    "    - Explicitly explain why each risk flag matters in user-friendly terms\n",
    "    - If the user's risk tolerance is misaligned with their financial reality highlight it\n",
    "    - If goals are unrealistic suggest adjustments. (e.g. smaller goals, longer timeframe)\n",
    "    - Maintain a supportive and professional tone\n",
    "    - Do not invent numbers. Rely only on provided profile and calculations\n",
    "    - Keep your output in under 150-200 words.\n",
    "    \"\"\")\n",
    "\n",
    "    profile = state.user_profile\n",
    "    risk_flags = []\n",
    "    disposable_income = profile.income - profile.expenses\n",
    "\n",
    "    if disposable_income < 0:\n",
    "        risk_flags.append(\"Negative cash flow\")\n",
    "    elif disposable_income < profile.income * 0.1:\n",
    "        risk_flags.append(\"Low disposable income (<10% of income)\")\n",
    "\n",
    "    if profile.tolerance == \"high\" and disposable_income < profile.income * 0.1:\n",
    "        risk_flags.append(\"High risk tolerance misaligned with limited finances\")\n",
    "\n",
    "    for goal in profile.goals:\n",
    "        if goal.amount > disposable_income * 12:\n",
    "            risk_flags.append(f\"Goal '{goal.name}' may be unrealistic with current savings\")\n",
    "\n",
    "    llm_input = {\n",
    "        \"profile\": profile.dict(),\n",
    "        \"calculations\": {\n",
    "            \"disposable_income\": disposable_income,\n",
    "            \"risk_flags\": risk_flags\n",
    "        }\n",
    "    }\n",
    "\n",
    "    res = llm.invoke([system_prompt, HumanMessage(json.dumps(llm_input))])\n",
    "\n",
    "    state.messages = [res]\n",
    "    state.risk_report = res.contenmt\n",
    "    return state\n",
    "\n",
    "    "
   ]
  },
  {
   "cell_type": "code",
   "execution_count": 41,
   "id": "72bda007-12bb-44eb-8ac5-fb984a351e82",
   "metadata": {},
   "outputs": [
    {
     "data": {
      "image/png": "[encoded data removed]",
      "text/plain": [
       "<IPython.core.display.Image object>"
      ]
     },
     "execution_count": 41,
     "metadata": {},
     "output_type": "execute_result"
    }
   ],
   "source": [
    "builder = StateGraph(SharedState)\n",
    "builder.add_node(collect_user_profile)\n",
    "builder.add_node(ask_user_to_clarify)\n",
    "builder.add_node(risk_check_agent)\n",
    "\n",
    "builder.set_entry_point(\"collect_user_profile\")\n",
    "builder.add_conditional_edges(\"collect_user_profile\", should_ask_to_clarify)\n",
    "\n",
    "graph = builder.compile(checkpointer=InMemorySaver(),)\n",
    "from IPython.display import Image\n",
    "graph_image = Image(graph.get_graph().draw_png())\n",
    "graph_image"
   ]
  },
  {
   "cell_type": "code",
   "execution_count": 42,
   "id": "042120d0-d895-4e86-a435-e1be2dda455f",
   "metadata": {},
   "outputs": [],
   "source": [
    "config = {\"configurable\": {\"thread_id\": 2}}\n",
    "state = SharedState(messages=[HumanMessage(\"I want to purchase a house. I'm making 3k a month and spending 2k a month. I want to have low risk preference and I want to save 50000 dollars\")])"
   ]
  },
  {
   "cell_type": "code",
   "execution_count": 43,
   "id": "c11e60e9-0353-4162-8ea3-70112e8a8aae",
   "metadata": {},
   "outputs": [
    {
     "name": "stderr",
     "output_type": "stream",
     "text": [
      "/var/folders/st/7yxg30452v701hb8jhrdfm3h0000gn/T/ipykernel_57550/3376116662.py:102: PydanticDeprecatedSince20: The `dict` method is deprecated; use `model_dump` instead. Deprecated in Pydantic V2.0 to be removed in V3.0. See Pydantic V2 Migration Guide at https://errors.pydantic.dev/2.11/migration/\n",
      "  \"profile\": profile.dict(),\n"
     ]
    },
    {
     "name": "stdout",
     "output_type": "stream",
     "text": [
      "==================================\u001b[1m Ai Message \u001b[0m==================================\n",
      "\n",
      "Risk report: \n",
      "Your current disposable income is $1000.0, but your goal to save $50,000 for a house may be unrealistic. \n",
      "With a low-risk tolerance, it's essential to prioritize stable savings. \n",
      "Consider adjusting your goal to a smaller amount or a longer timeframe to make it more achievable. \n",
      "This will help you balance your savings with your risk comfort level, ensuring a more stable financial future.\n",
      "HEREEE {'profile': {'income': 3000.0, 'expenses': 2000.0, 'tolerance': 'low', 'preferences': [], 'goals': [{'name': 'house', 'amount': 50000.0}]}, 'calculations': {'disposable_income': 1000.0, 'risk_flags': [\"Goal 'house' may be unrealistic with current savings\"]}}\n"
     ]
    },
    {
     "data": {
      "text/plain": [
       "{'messages': [HumanMessage(content=\"I want to purchase a house. I'm making 3k a month and spending 2k a month. I want to have low risk preference and I want to save 50000 dollars\", additional_kwargs={}, response_metadata={}, id='8ecf9757-c284-4e76-8678-90a1d9194dd9'),\n",
       "  AIMessage(content='To generate the user\\'s financial profile, we need to extract the relevant information from their input. \\n\\nFrom the input, we can extract the following information:\\n- Income: 3000\\n- Expenses: 2000\\n- Tolerance: low\\n- Goal: purchase a house, amount: 50000\\n\\nSince the user\\'s input does not explicitly mention their investment preferences, we will use the default value for the \"preferences\" field, which is an empty array.\\n\\nHere is the generated JSON:\\n\\n<generated_json>\\n{\\n    \"income\": 3000,\\n    \"expenses\": 2000,\\n    \"tolerance\": \"low\",\\n    \"preferences\": [],\\n    \"goals\": [{\"name\": \"house\", \"amount\": 50000}]\\n}\\n</generated_json>', additional_kwargs={}, response_metadata={'token_usage': {'completion_tokens': 160, 'prompt_tokens': 549, 'total_tokens': 709, 'completion_time': 0.385372702, 'prompt_time': 0.049064921, 'queue_time': 0.086087128, 'total_time': 0.434437623}, 'model_name': 'llama-3.3-70b-versatile', 'system_fingerprint': 'fp_3f3b593e33', 'service_tier': 'on_demand', 'finish_reason': 'stop', 'logprobs': None}, id='run--7caf9764-dcec-484f-ba0e-fec290a35eb6-0', usage_metadata={'input_tokens': 549, 'output_tokens': 160, 'total_tokens': 709})],\n",
       " 'user_profile': UserProfile(income=3000.0, expenses=2000.0, tolerance='low', preferences=[], goals=[Goal(name='house', amount=50000.0)]),\n",
       " 'question_to_ask': None,\n",
       " 'user_response': None}"
      ]
     },
     "execution_count": 43,
     "metadata": {},
     "output_type": "execute_result"
    }
   ],
   "source": [
    "graph.invoke(state, config)"
   ]
  },
  {
   "cell_type": "code",
   "execution_count": 35,
   "id": "62c676c1-5b07-453d-b513-699869219c51",
   "metadata": {},
   "outputs": [
    {
     "name": "stdin",
     "output_type": "stream",
     "text": [
      "\n",
      " What is the amount you want to save for purchasing a house? 50000\n"
     ]
    },
    {
     "name": "stdout",
     "output_type": "stream",
     "text": [
      "HEREEE {'profile': {'income': 3000.0, 'expenses': 2000.0, 'tolerance': 'low', 'preferences': [], 'goals': [{'name': 'house', 'amount': 50000.0}]}, 'calculations': {'disposable_income': 1000.0, 'risk_flags': [\"Goal 'house' may be unrealistic with current savings\"]}}\n"
     ]
    },
    {
     "name": "stderr",
     "output_type": "stream",
     "text": [
      "/var/folders/st/7yxg30452v701hb8jhrdfm3h0000gn/T/ipykernel_57550/972246438.py:102: PydanticDeprecatedSince20: The `dict` method is deprecated; use `model_dump` instead. Deprecated in Pydantic V2.0 to be removed in V3.0. See Pydantic V2 Migration Guide at https://errors.pydantic.dev/2.11/migration/\n",
      "  \"profile\": profile.dict(),\n"
     ]
    }
   ],
   "source": [
    "interrupts = graph.get_state(config).interrupts\n",
    "\n",
    "if interrupts:\n",
    "    user_response = input(interrupts[0].value)\n",
    "    graph.invoke(Command(resume=user_response), config)"
   ]
  },
  {
   "cell_type": "code",
   "execution_count": 499,
   "id": "b0414d4e-9fc1-4b1a-8791-b556a43289de",
   "metadata": {},
   "outputs": [
    {
     "name": "stdout",
     "output_type": "stream",
     "text": [
      "================================\u001b[1m Human Message \u001b[0m=================================\n",
      "\n",
      "I need your assistance regarding me buying a house\n",
      "==================================\u001b[1m Ai Message \u001b[0m==================================\n",
      "\n",
      "To better assist you, I'll need to extract your financial profile based on the provided JSON schema. From your input, \"I need your assistance regarding me buying a house\", I was able to extract the following information:\n",
      "\n",
      "You have a goal of buying a house, but the other fields are missing. \n",
      "\n",
      "Since \"tolerance\" is missing and it doesn't have a default value in the schema, and \"income\", \"expenses\", and \"preferences\" are also missing, I have to ask the following question:\n",
      "<question_to_ask>What is your monthly income, monthly expenses, and what is your risk tolerance (low, medium, or high)?</question_to_ask> \n",
      "\n",
      "Also, I'll assume buying a house is one of your goals. \n",
      "\n",
      "Please provide more information so I can generate a valid JSON output.\n",
      "==================================\u001b[1m Ai Message \u001b[0m==================================\n",
      "\n",
      "What is your monthly income, monthly expenses, and what is your risk tolerance (low, medium, or high)?\n",
      "================================\u001b[1m Human Message \u001b[0m=================================\n",
      "\n",
      "I make around 30k a month, spend 13k. I want it to be low risk\n",
      "==================================\u001b[1m Ai Message \u001b[0m==================================\n",
      "\n",
      "Based on the provided JSON schema and your input, I was able to extract the following information:\n",
      "\n",
      "* Income: 30000\n",
      "* Expenses: 13000\n",
      "* Tolerance: low\n",
      "* Goal: buying a house\n",
      "\n",
      "Since \"preferences\" is missing but has a default value of an empty array in the schema, I'll use that default value.\n",
      "\n",
      "Here's the generated JSON output:\n",
      "<generated_json>\n",
      "{\n",
      "    \"income\": 30000,\n",
      "    \"expenses\": 13000,\n",
      "    \"tolerance\": \"low\",\n",
      "    \"preferences\": [],\n",
      "    \"goals\": [{\"name\": \"buying a house\", \"amount\": 0}]\n",
      "}\n",
      "</generated_json>\n",
      "\n",
      "Please note that I assumed the goal \"buying a house\" with an amount of 0 since you didn't specify the exact amount you want to save for the house. If you provide more information about the amount, I can update the JSON output accordingly.\n"
     ]
    }
   ],
   "source": [
    "for m in graph.get_state(config).values[\"messages\"]:\n",
    "    m.pretty_print()\n",
    "    "
   ]
  }
 ],
 "metadata": {
  "kernelspec": {
   "display_name": "Python (myproject)",
   "language": "python",
   "name": "myproject"
  },
  "language_info": {
   "codemirror_mode": {
    "name": "ipython",
    "version": 3
   },
   "file_extension": ".py",
   "mimetype": "text/x-python",
   "name": "python",
   "nbconvert_exporter": "python",
   "pygments_lexer": "ipython3",
   "version": "3.12.6"
  }
 },
 "nbformat": 4,
 "nbformat_minor": 5
}
